{
 "cells": [
  {
   "cell_type": "code",
   "execution_count": 1,
   "id": "initial_id",
   "metadata": {
    "collapsed": true,
    "ExecuteTime": {
     "end_time": "2024-05-19T17:12:11.344350900Z",
     "start_time": "2024-05-19T17:07:29.598799800Z"
    }
   },
   "outputs": [
    {
     "name": "stdout",
     "output_type": "stream",
     "text": [
      "Epoch 1/15\n",
      "382/382 [==============================] - 21s 50ms/step - loss: 1.0801 - accuracy: 0.3914\n",
      "Epoch 2/15\n",
      "382/382 [==============================] - 18s 47ms/step - loss: 0.9426 - accuracy: 0.5730\n",
      "Epoch 3/15\n",
      "382/382 [==============================] - 18s 47ms/step - loss: 0.7849 - accuracy: 0.6933\n",
      "Epoch 4/15\n",
      "382/382 [==============================] - 18s 47ms/step - loss: 0.6785 - accuracy: 0.7531\n",
      "Epoch 5/15\n",
      "382/382 [==============================] - 18s 46ms/step - loss: 0.5984 - accuracy: 0.7931\n",
      "Epoch 6/15\n",
      "382/382 [==============================] - 18s 47ms/step - loss: 0.5327 - accuracy: 0.8231\n",
      "Epoch 7/15\n",
      "382/382 [==============================] - 18s 46ms/step - loss: 0.4739 - accuracy: 0.8477\n",
      "Epoch 8/15\n",
      "382/382 [==============================] - 18s 47ms/step - loss: 0.4239 - accuracy: 0.8674\n",
      "Epoch 9/15\n",
      "382/382 [==============================] - 18s 46ms/step - loss: 0.3829 - accuracy: 0.8824\n",
      "Epoch 10/15\n",
      "382/382 [==============================] - 18s 47ms/step - loss: 0.3495 - accuracy: 0.8947\n",
      "Epoch 11/15\n",
      "382/382 [==============================] - 18s 46ms/step - loss: 0.3207 - accuracy: 0.9036\n",
      "Epoch 12/15\n",
      "382/382 [==============================] - 18s 47ms/step - loss: 0.2952 - accuracy: 0.9123\n",
      "Epoch 13/15\n",
      "382/382 [==============================] - 18s 46ms/step - loss: 0.2732 - accuracy: 0.9199\n",
      "Epoch 14/15\n",
      "382/382 [==============================] - 17s 45ms/step - loss: 0.2549 - accuracy: 0.9249\n",
      "Epoch 15/15\n",
      "382/382 [==============================] - 18s 46ms/step - loss: 0.2377 - accuracy: 0.9300\n",
      "96/96 [==============================] - 1s 7ms/step - loss: 0.4551 - accuracy: 0.8469\n",
      "Test Loss: 0.45507779717445374, Test Accuracy: 0.8469404578208923\n",
      "96/96 [==============================] - 1s 6ms/step\n",
      "F1 Score: 0.8461400938610723\n"
     ]
    }
   ],
   "source": [
    "import tensorflow as tf\n",
    "import pandas as pd\n",
    "from sklearn.preprocessing import LabelEncoder\n",
    "from tensorflow.keras.layers import SimpleRNN, Embedding, Dense, Input\n",
    "from tensorflow.keras.models import Model\n",
    "from tensorflow.keras.optimizers import Adam\n",
    "from sklearn.model_selection import train_test_split\n",
    "from sklearn.metrics import f1_score, accuracy_score\n",
    "import numpy as np\n",
    "import re\n",
    "import warnings\n",
    "warnings.filterwarnings(\"ignore\")\n",
    "import os\n",
    "os.environ[\"CUDA_VISIBLE_DEVICES\"] = \"\"\n",
    "\n",
    "\n",
    "# 加载数据并进行预处理\n",
    "df = pd.read_csv('data.csv')\n",
    "df.dropna(inplace=True)  # 删除包含NaN的行\n",
    "df['label'] = LabelEncoder().fit_transform(df['label'])  # 将标签编码为整数\n",
    "\n",
    "# 数据编码（这里我们不再使用预训练的分词器，改为使用简单的词索引编码）\n",
    "tokenizer = tf.keras.preprocessing.text.Tokenizer()\n",
    "tokenizer.fit_on_texts(df['phrase'])\n",
    "encoded_texts = tokenizer.texts_to_sequences(df['phrase'])\n",
    "max_length = 64  # 定义序列的最大长度\n",
    "input_ids = tf.keras.preprocessing.sequence.pad_sequences(encoded_texts, maxlen=max_length, padding='post')\n",
    "\n",
    "# 划分数据集为训练集和测试集\n",
    "train_input_ids, test_input_ids, train_y, test_y = train_test_split(\n",
    "    input_ids, df['label'].values, test_size=0.2, random_state=42)\n",
    "\n",
    "# 创建训练数据集和测试数据集\n",
    "train_dataset = tf.data.Dataset.from_tensor_slices((train_input_ids, train_y)).batch(128)\n",
    "test_dataset = tf.data.Dataset.from_tensor_slices((test_input_ids, test_y)).batch(128)\n",
    "\n",
    "# 定义类别数量和模型输入层\n",
    "num_classes = 3\n",
    "input_layer = Input(shape=(max_length,), dtype='int32')\n",
    "\n",
    "# Embedding层和RNN层\n",
    "embedded = Embedding(input_dim=len(tokenizer.word_index)+1, output_dim=128)(input_layer)\n",
    "rnn_output = SimpleRNN(64)(embedded)\n",
    "\n",
    "# 输出层\n",
    "outputs = Dense(units=num_classes, activation=\"softmax\")(rnn_output)\n",
    "model = Model(inputs=input_layer, outputs=outputs)\n",
    "\n",
    "# 编译模型\n",
    "adam = Adam(learning_rate=2e-5, epsilon=1e-08)\n",
    "model.compile(loss=\"sparse_categorical_crossentropy\", metrics=[\"accuracy\"], optimizer=adam)\n",
    "\n",
    "# 训练模型\n",
    "model.fit(train_dataset, epochs=15)\n",
    "\n",
    "# 保存模型\n",
    "model.save('my_rnn_model.h5')\n",
    "\n",
    "# 评估模型\n",
    "results = model.evaluate(test_dataset)\n",
    "print(f\"Test Loss: {results[0]}, Test Accuracy: {results[1]}\")\n",
    "\n",
    "# 预测和计算 F1-score\n",
    "predictions = model.predict(test_dataset)\n",
    "predicted_labels = np.argmax(predictions, axis=1)\n",
    "f1 = f1_score(test_y, predicted_labels, average='macro')\n",
    "print(f\"F1 Score: {f1}\")\n"
   ]
  },
  {
   "cell_type": "code",
   "execution_count": null,
   "outputs": [],
   "source": [],
   "metadata": {
    "collapsed": false
   },
   "id": "be4bb69e8652aec2"
  }
 ],
 "metadata": {
  "kernelspec": {
   "display_name": "Python 3",
   "language": "python",
   "name": "python3"
  },
  "language_info": {
   "codemirror_mode": {
    "name": "ipython",
    "version": 2
   },
   "file_extension": ".py",
   "mimetype": "text/x-python",
   "name": "python",
   "nbconvert_exporter": "python",
   "pygments_lexer": "ipython2",
   "version": "2.7.6"
  }
 },
 "nbformat": 4,
 "nbformat_minor": 5
}
